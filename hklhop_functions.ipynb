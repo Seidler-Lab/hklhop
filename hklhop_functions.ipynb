{
 "cells": [
  {
   "cell_type": "markdown",
   "metadata": {},
   "source": [
    "### Need matplotlib.pyplot, numpy, pandas, math, and XlsxWriter Packages Installed"
   ]
  },
  {
   "cell_type": "code",
   "execution_count": 1,
   "metadata": {},
   "outputs": [],
   "source": [
    "from hklhop_functions import *"
   ]
  },
  {
   "cell_type": "markdown",
   "metadata": {},
   "source": [
    "## Generate Possible Asymmetric hkl from list of SBCA and Target Energies"
   ]
  },
  {
   "cell_type": "code",
   "execution_count": null,
   "metadata": {},
   "outputs": [],
   "source": [
    "'''List of SBCAs in the form of [G0, Ghkl for phi=0]'''\n",
    "crystal_hkl = [[[5,3,3],[1,0,0]],[[3,1,1],[1,0,0]],[[1,0,0],[0,0,1]]];\n",
    "\n",
    "'''Maximum indice allowed in possible assymetric reciprocal lattice vectors.'''\n",
    "index_max = 15;\n",
    "\n",
    "'''Range of allowed Mech angle (deg)\n",
    "(angle between incoming x-rays and face of SBCA).\n",
    "'''\n",
    "mechanical_angle_range = [70, 110];\n",
    "\n",
    "'''Range of allowed Bragg angle (deg)\n",
    "(angle between incoming x-rays and refraction plane).\n",
    "'''\n",
    "bragg_angle_range = [65,84];\n",
    "\n",
    "'''List of target energies in eV.'''\n",
    "target_energy = [5463, 7058];\n",
    "\n",
    "'''Minimum energy step above and below targets that is accessable in eV.'''\n",
    "energy_range = [25,25];\n",
    "\n",
    "'''SBCA crystal element. 'Si' and 'Ge' only options.'''\n",
    "crystal_type = 'Si'\n",
    "\n",
    "'''True/False if results should be saved as excel file.\n",
    "If True, input path where it will be saved and what it will be named.\n",
    "'''\n",
    "save_to_excel = False\n",
    "file_path = 'C:/Users/example/test/'\n",
    "file_name = 'Test'\n",
    "\n",
    "hkl_selection(crystal_hkl, index_max, mechanical_angle_range, bragg_angle_range, \n",
    "              target_energy, energy_range, crystal_type, save_to_excel, file_path, file_name)"
   ]
  },
  {
   "cell_type": "markdown",
   "metadata": {},
   "source": [
    "## Generate Possible SBCAs to Reach List of Target Energies"
   ]
  },
  {
   "cell_type": "code",
   "execution_count": null,
   "metadata": {},
   "outputs": [],
   "source": [
    "'''Maximum indice allowed in possible assymetric reciprocal lattice vectors.'''\n",
    "hkl_max_index = 15;\n",
    "\n",
    "'''Maximum indice allowed in possible SBCAs.'''\n",
    "sbca_max_index = 6;\n",
    "\n",
    "'''Range of allowed Mech angle (deg)\n",
    "(angle between incoming x-rays and face of SBCA).\n",
    "'''\n",
    "mechanical_angle_range = [85, 95];\n",
    "\n",
    "'''Range of allowed Bragg angle (deg)\n",
    "(angle between incoming x-rays and refraction plane).\n",
    "'''\n",
    "bragg_angle_range = [65,85];\n",
    "\n",
    "'''List of target energies in eV.'''\n",
    "target_energy = [7000, 5000];\n",
    "\n",
    "'''Minimum energy step above and below targets that is accessable in eV.'''\n",
    "energy_range = [25,25];\n",
    "\n",
    "'''SBCA crystal element. Si and Ge only options.'''\n",
    "crystal_type = 'Si'\n",
    "\n",
    "'''True/False if results should be saved as excel file.\n",
    "If True, input path where it will be saved and what it will be named.\n",
    "'''\n",
    "save_to_excel = False\n",
    "file_path = 'C:/Users/example/test/'\n",
    "file_name = 'Test'\n",
    "\n",
    "\n",
    "sbca_selection(hkl_max_index, sbca_max_index, mechanical_angle_range, bragg_angle_range, \n",
    "               target_energy, energy_range, crystal_type, save_to_excel, file_path, file_name)"
   ]
  },
  {
   "cell_type": "markdown",
   "metadata": {},
   "source": [
    "## Generate Optimal Set of SBCAs for A Given Set of Energies"
   ]
  },
  {
   "cell_type": "code",
   "execution_count": 2,
   "metadata": {},
   "outputs": [
    {
     "name": "stdout",
     "output_type": "stream",
     "text": [
      "---------------------------------------------\n"
     ]
    },
    {
     "data": {
      "text/latex": [
       "Optimizing: Number of SBCA = 2..."
      ],
      "text/plain": [
       "<IPython.core.display.Latex object>"
      ]
     },
     "metadata": {},
     "output_type": "display_data"
    },
    {
     "data": {
      "text/latex": [
       "G0 = Si[5, 5, 1], Si[5, 5, 3]"
      ],
      "text/plain": [
       "<IPython.core.display.Latex object>"
      ]
     },
     "metadata": {},
     "output_type": "display_data"
    },
    {
     "data": {
      "text/latex": [
       "Average Angle Distance = 13.44"
      ],
      "text/plain": [
       "<IPython.core.display.Latex object>"
      ]
     },
     "metadata": {},
     "output_type": "display_data"
    },
    {
     "data": {
      "text/html": [
       "<div>\n",
       "<style scoped>\n",
       "    .dataframe tbody tr th:only-of-type {\n",
       "        vertical-align: middle;\n",
       "    }\n",
       "\n",
       "    .dataframe tbody tr th {\n",
       "        vertical-align: top;\n",
       "    }\n",
       "\n",
       "    .dataframe thead th {\n",
       "        text-align: right;\n",
       "    }\n",
       "</style>\n",
       "<table border=\"1\" class=\"dataframe\">\n",
       "  <thead>\n",
       "    <tr style=\"text-align: right;\">\n",
       "      <th></th>\n",
       "      <th>E (eV)</th>\n",
       "      <th>G_0</th>\n",
       "      <th>G_hkl</th>\n",
       "      <th>Bragg (deg)</th>\n",
       "      <th>alpha (deg)</th>\n",
       "    </tr>\n",
       "  </thead>\n",
       "  <tbody>\n",
       "    <tr>\n",
       "      <th>0</th>\n",
       "      <td>7000</td>\n",
       "      <td>Si[5, 5, 1]</td>\n",
       "      <td>Si[5, 3, 1]</td>\n",
       "      <td>74.777565</td>\n",
       "      <td>13.967881</td>\n",
       "    </tr>\n",
       "    <tr>\n",
       "      <th>1</th>\n",
       "      <td>5000</td>\n",
       "      <td>Si[5, 5, 1]</td>\n",
       "      <td>Si[3, 3, 1]</td>\n",
       "      <td>84.449991</td>\n",
       "      <td>5.213209</td>\n",
       "    </tr>\n",
       "  </tbody>\n",
       "</table>\n",
       "</div>"
      ],
      "text/plain": [
       "  E (eV)          G_0        G_hkl  Bragg (deg)  alpha (deg)\n",
       "0   7000  Si[5, 5, 1]  Si[5, 3, 1]    74.777565    13.967881\n",
       "1   5000  Si[5, 5, 1]  Si[3, 3, 1]    84.449991     5.213209"
      ]
     },
     "metadata": {},
     "output_type": "display_data"
    },
    {
     "name": "stdout",
     "output_type": "stream",
     "text": [
      "---------------------------------------------\n"
     ]
    },
    {
     "data": {
      "text/latex": [
       "Optimizing: Number of SBCA = 1..."
      ],
      "text/plain": [
       "<IPython.core.display.Latex object>"
      ]
     },
     "metadata": {},
     "output_type": "display_data"
    },
    {
     "data": {
      "text/latex": [
       "G0 = Si[5, 5, 1]"
      ],
      "text/plain": [
       "<IPython.core.display.Latex object>"
      ]
     },
     "metadata": {},
     "output_type": "display_data"
    },
    {
     "data": {
      "text/latex": [
       "Average Angle Distance = 11.28"
      ],
      "text/plain": [
       "<IPython.core.display.Latex object>"
      ]
     },
     "metadata": {},
     "output_type": "display_data"
    },
    {
     "data": {
      "text/html": [
       "<div>\n",
       "<style scoped>\n",
       "    .dataframe tbody tr th:only-of-type {\n",
       "        vertical-align: middle;\n",
       "    }\n",
       "\n",
       "    .dataframe tbody tr th {\n",
       "        vertical-align: top;\n",
       "    }\n",
       "\n",
       "    .dataframe thead th {\n",
       "        text-align: right;\n",
       "    }\n",
       "</style>\n",
       "<table border=\"1\" class=\"dataframe\">\n",
       "  <thead>\n",
       "    <tr style=\"text-align: right;\">\n",
       "      <th></th>\n",
       "      <th>E (eV)</th>\n",
       "      <th>G_0</th>\n",
       "      <th>G_hkl</th>\n",
       "      <th>Bragg (deg)</th>\n",
       "      <th>alpha (deg)</th>\n",
       "    </tr>\n",
       "  </thead>\n",
       "  <tbody>\n",
       "    <tr>\n",
       "      <th>0</th>\n",
       "      <td>7000</td>\n",
       "      <td>Si[5, 5, 1]</td>\n",
       "      <td>Si[5, 3, 1]</td>\n",
       "      <td>74.777565</td>\n",
       "      <td>13.967881</td>\n",
       "    </tr>\n",
       "    <tr>\n",
       "      <th>1</th>\n",
       "      <td>5000</td>\n",
       "      <td>Si[5, 5, 1]</td>\n",
       "      <td>Si[3, 3, 1]</td>\n",
       "      <td>84.449991</td>\n",
       "      <td>5.213209</td>\n",
       "    </tr>\n",
       "  </tbody>\n",
       "</table>\n",
       "</div>"
      ],
      "text/plain": [
       "  E (eV)          G_0        G_hkl  Bragg (deg)  alpha (deg)\n",
       "0   7000  Si[5, 5, 1]  Si[5, 3, 1]    74.777565    13.967881\n",
       "1   5000  Si[5, 5, 1]  Si[3, 3, 1]    84.449991     5.213209"
      ]
     },
     "metadata": {},
     "output_type": "display_data"
    }
   ],
   "source": [
    "'''Maximum indice allowed in possible assymetric reciprocal lattice vectors.'''\n",
    "hkl_max_index = 15;\n",
    "\n",
    "'''Maximum indice allowed in possible SBCAs.'''\n",
    "sbca_max_index = 6;\n",
    "\n",
    "'''Range of allowed Mech angle (deg)\n",
    "(angle between incoming x-rays and face of SBCA).\n",
    "'''\n",
    "mechanical_angle_range = [85, 95];\n",
    "\n",
    "'''Range of allowed Bragg angle (deg)\n",
    "(angle between incoming x-rays and refraction plane).\n",
    "'''\n",
    "bragg_angle_range = [65,85];\n",
    "\n",
    "'''List of target energies in eV.'''\n",
    "target_energy = [7000, 5000];\n",
    "\n",
    "'''Minimum energy step above and below targets that is accessable in eV.'''\n",
    "energy_range = [25,25];\n",
    "\n",
    "'''SBCA crystal element. Enter 'Si', 'Ge', or 'Si_n_Ge'.'''\n",
    "crystal_type = 'Si_n_Ge'\n",
    "\n",
    "'''Maximun number of SBCAs allowed in the set'''\n",
    "max_N = 2\n",
    "\n",
    "optimal_sbcas(hkl_max_index, sbca_max_index, mechanical_angle_range, bragg_angle_range,\n",
    "              target_energy, energy_range, crystal_type, max_N)"
   ]
  },
  {
   "cell_type": "markdown",
   "metadata": {},
   "source": [
    "## Generate Detection Efficiency Plot"
   ]
  },
  {
   "cell_type": "code",
   "execution_count": null,
   "metadata": {},
   "outputs": [],
   "source": []
  },
  {
   "cell_type": "markdown",
   "metadata": {},
   "source": [
    "## Generate Bar Chart Showing Energy Range of Asymmetric Orientations"
   ]
  },
  {
   "cell_type": "code",
   "execution_count": null,
   "metadata": {},
   "outputs": [],
   "source": [
    "'''(hkl) of SBCA inputted as [h,k,l]'''\n",
    "crystal_hkl = [5,5,1]\n",
    "\n",
    "'''Material of SBCA. Si and Ge only options.'''\n",
    "crystal_type = 'Si'\n",
    "\n",
    "'''Maximum and minimum (negative of input) Miller indice\n",
    "    for potential asymmetric reciprocal lattice vectors.\n",
    "    '''\n",
    "index_max = 15\n",
    "\n",
    "'''List of minimum Bragg angles to differentiate ranges.\n",
    "    Input in degrees.\n",
    "    '''\n",
    "min_bragg_list = [60,65,70,75]\n",
    "\n",
    "'''Maximum Bragg angle which will form a range with the \n",
    "    last input of min_bragg_list. Input in degrees.\n",
    "    '''\n",
    "max_bragg = 85\n",
    "\n",
    "'''Reciprocal lattice vectors with an alpha angle above \n",
    "    max_alpha will be excluded. Input in degrees.\n",
    "    '''\n",
    "max_alpha = 30\n",
    "\n",
    "'''Only reciprocal lattice vectors whose energy at max_bragg \n",
    "    falls in energy range are included. Note that all other \n",
    "    Bragg angles will give higher energies. Input in eV.\n",
    "    '''\n",
    "energy_range = [3750, 10000]\n",
    "\n",
    "'''List of atomic number of elements to plot grey verticle line at \n",
    "    emission energies. If none are wanted input None or [].\n",
    "    '''\n",
    "elements = range(21,34)\n",
    "\n",
    "'''List of energies in eV to plot red verticle line at for eye guides.\n",
    "    If none are wanted input None or [].'''\n",
    "vert_guide = []\n",
    "\n",
    "'''Input the dimensions of the figure. Need to change based on energy_range and \n",
    "    how many asymmetric reciprocal lattice vectors fit conditions for sensible figure.\n",
    "    '''\n",
    "fig_dim = [9, 10]\n",
    "\n",
    "'''True/False to save figure. If True, input path where figure will be saved and other file parameters.\n",
    "    File path needs to end in /\n",
    "    fig_format e.g. 'png', 'pdf', or 'svg'.\n",
    "    '''\n",
    "save_fig = False\n",
    "fig_path = 'C:/Users/Jared Abramson/OneDrive/Desktop/Seidler Lab Stuff/IGLOO/Assym Operation Paper/Figures'\n",
    "fig_name = 'Asym Si 211 Bar Chart'\n",
    "fig_dpi = 600\n",
    "fig_format = 'png' \n",
    "\n",
    "\n",
    "bar_chart(crystal_hkl, crystal_type, index_max, min_bragg_list, \n",
    "              max_alpha, max_bragg, energy_range, elements, \n",
    "              fig_dim, vert_guide, save_fig, fig_path, fig_name, \n",
    "              fig_dpi, fig_format)"
   ]
  },
  {
   "cell_type": "code",
   "execution_count": null,
   "metadata": {},
   "outputs": [],
   "source": []
  }
 ],
 "metadata": {
  "kernelspec": {
   "display_name": "Python 3 (ipykernel)",
   "language": "python",
   "name": "python3"
  },
  "language_info": {
   "codemirror_mode": {
    "name": "ipython",
    "version": 3
   },
   "file_extension": ".py",
   "mimetype": "text/x-python",
   "name": "python",
   "nbconvert_exporter": "python",
   "pygments_lexer": "ipython3",
   "version": "3.10.9"
  }
 },
 "nbformat": 4,
 "nbformat_minor": 4
}
